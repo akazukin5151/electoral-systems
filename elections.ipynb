{
 "cells": [
  {
   "cell_type": "code",
   "execution_count": 1,
   "metadata": {},
   "outputs": [],
   "source": [
    "# TODO and potential extensions\n",
    "# Show margin by which the winner has won. Probably difficult though\n",
    "\n",
    "# Borda and IRV: burying\n",
    "# The chance of exaggerating a low-performing candidate\n",
    "# To push down another candidate (\"Dark horse plus 3 rivals\")\n",
    "# Rank the centrist higher than preferred\n",
    "\n",
    "# Borda, Approval, and Score: Compromising\n",
    "# Raise 2nd choice over 1st, to get rid of even less favourable 3rd choice\n",
    "# Or approves an additional candidate, to get him above another less favourable one\n",
    "\n",
    "# Borda\n",
    "# Voters may not rank all candidates. What happens to them? Applies to IRV as well\n",
    "# Can also bullet vote by ranking only one candidate\n",
    "# Modified Borda (see wikipedia) reduces incentive to bullet vote:\n",
    "# points depend on number of candidates ranked, not on number of candidates running\n",
    "\n",
    "# Score and Approval, and later no harm\n",
    "# Chances of tactical bullet voting\n",
    "# Approving one candidate can cause it to overtake a more preferred one\n",
    "# Among acceptable candidates, who should be marked as approved on the ballot?\n",
    "# Chance of voters not approving the furthest candidate\n",
    "# Also, chances of voters ranking (d_sorted), then approving top 3 or top half"
   ]
  },
  {
   "cell_type": "code",
   "execution_count": 2,
   "metadata": {},
   "outputs": [
    {
     "data": {
      "text/plain": [
       "Plots.GRBackend()"
      ]
     },
     "execution_count": 2,
     "metadata": {},
     "output_type": "execute_result"
    }
   ],
   "source": [
    "using StatsBase\n",
    "using Distributions\n",
    "using ProgressMeter\n",
    "using DataFrames\n",
    "using Plots\n",
    "gr()"
   ]
  },
  {
   "cell_type": "code",
   "execution_count": 3,
   "metadata": {},
   "outputs": [],
   "source": [
    "export fptp, approval, sorter, approval_bullet, borda, irv, score, election, loop_elections, plotter"
   ]
  },
  {
   "cell_type": "code",
   "execution_count": 4,
   "metadata": {},
   "outputs": [
    {
     "data": {
      "text/plain": [
       "fptp (generic function with 1 method)"
      ]
     },
     "execution_count": 4,
     "metadata": {},
     "output_type": "execute_result"
    }
   ],
   "source": [
    "function fptp(distance_list)\n",
    "    fptp_votes = argmin.(eachrow(distance_list))\n",
    "    winner = StatsBase.countmap(fptp_votes)\n",
    "    collectkeys = collect(keys(winner))\n",
    "    collectvalues = collect(values(winner))\n",
    "    return collectkeys[argmax(collectvalues)]\n",
    "end"
   ]
  },
  {
   "cell_type": "code",
   "execution_count": 5,
   "metadata": {},
   "outputs": [
    {
     "data": {
      "text/plain": [
       "approval (generic function with 3 methods)"
      ]
     },
     "execution_count": 5,
     "metadata": {},
     "output_type": "execute_result"
    }
   ],
   "source": [
    "function approval(distance_list, a=0, b=1)\n",
    "    approval_radii = rand(Distributions.LogNormal(0,0.5), size(distance_list)[1])\n",
    "    approval_list = distance_list .<= approval_radii\n",
    "    winner = argmax(count.(eachcol(approval_list)))\n",
    "    return winner\n",
    "end"
   ]
  },
  {
   "cell_type": "code",
   "execution_count": 6,
   "metadata": {},
   "outputs": [
    {
     "data": {
      "text/plain": [
       "sorter (generic function with 1 method)"
      ]
     },
     "execution_count": 6,
     "metadata": {},
     "output_type": "execute_result"
    }
   ],
   "source": [
    "function sorter(distance_list)\n",
    "    cols = size(distance_list)[1]\n",
    "    rows = size(distance_list)[2]\n",
    "    arr = zeros(Int64, (cols, rows))\n",
    "    x = collect(eachrow(distance_list))\n",
    "    for i in 1:size(arr)[1]\n",
    "        arr[i, :] .= sortperm(x[i])\n",
    "    end\n",
    "    return arr\n",
    "end"
   ]
  },
  {
   "cell_type": "code",
   "execution_count": 7,
   "metadata": {},
   "outputs": [
    {
     "data": {
      "text/plain": [
       "approval_bullet (generic function with 1 method)"
      ]
     },
     "execution_count": 7,
     "metadata": {},
     "output_type": "execute_result"
    }
   ],
   "source": [
    "function approval_bullet(distance_list; a=0, b=1, probability=1/3)\n",
    "    approval_radii = rand(Distributions.LogNormal(0,0.5), size(distance_list)[1])\n",
    "    approval_list = distance_list .<= approval_radii\n",
    "    if probability != 0\n",
    "        list_size = size(approval_list)[1]\n",
    "        unfolded = sorter(distance_list)\n",
    "        indices = StatsBase.sample(1:list_size, floor(Int, probability*list_size), replace=false)\n",
    "        for i in 1:list_size\n",
    "            if i in indices\n",
    "                current_row = approval_list[i, :]\n",
    "                if sum(current_row) > 1\n",
    "                    approval_list[i, :] = BitArray([0, 0, 0])\n",
    "                    approval_list[i, argmin(unfolded[i, :])] = true\n",
    "                end\n",
    "            end\n",
    "        end\n",
    "    end\n",
    "    \n",
    "    winner = argmax(count.(eachcol(approval_list)))\n",
    "    return winner\n",
    "end"
   ]
  },
  {
   "cell_type": "code",
   "execution_count": 8,
   "metadata": {},
   "outputs": [
    {
     "data": {
      "text/plain": [
       "borda (generic function with 1 method)"
      ]
     },
     "execution_count": 8,
     "metadata": {},
     "output_type": "execute_result"
    }
   ],
   "source": [
    "function borda(distance_list, candidate_x_coord)    \n",
    "    unfolded = sorter(distance_list)\n",
    "    borda_count = StatsBase.countmap.(eachcol(unfolded))\n",
    "    # columns are candidates, rows are their borda scores to be summed\n",
    "    res = fill(0, size(candidate_x_coord)[2], size(borda_count)[1])\n",
    "\n",
    "    for i in 1:size(borda_count)[1]\n",
    "        for (k,v) in borda_count[i]\n",
    "            # res[row][column]\n",
    "            res[i, k] = v*i\n",
    "        end\n",
    "    end\n",
    "\n",
    "    borda_sum = sum(res,dims=1)\n",
    "    borda_winner = argmin(borda_sum)[2]\n",
    "    return borda_winner\n",
    "end"
   ]
  },
  {
   "cell_type": "code",
   "execution_count": 9,
   "metadata": {},
   "outputs": [
    {
     "data": {
      "text/plain": [
       "score (generic function with 1 method)"
      ]
     },
     "execution_count": 9,
     "metadata": {},
     "output_type": "execute_result"
    }
   ],
   "source": [
    "function score(distance_list)\n",
    "    # TODO: variable score radii -- why not use Approval's LogNormal?\n",
    "    # each 'bin' gets a higher mean? but some values might be lower than the prev bin\n",
    "    # rand(Distributions.LogNormal(0,0.5), 1)\n",
    "    distlst = replace!(x -> x<=0.5 ? 10 : x, distance_list)\n",
    "    distlst = replace!(x -> x>3 && x!=10 ? 0 : x, distance_list)\n",
    "    distlst = replace!(x -> 0.5<x<=1 ? 8 : x, distance_list)\n",
    "    distlst = replace!(x -> 1<x<=2 ? 7 : x, distance_list)\n",
    "    distlst = replace!(x -> 2<x<=3 ? 5 : x, distance_list)\n",
    "    score_sum = sum(distlst, dims=1)\n",
    "    score_winner_pos = argmax(score_sum)[2]\n",
    "    return score_winner_pos\n",
    "end"
   ]
  },
  {
   "cell_type": "code",
   "execution_count": 10,
   "metadata": {},
   "outputs": [
    {
     "data": {
      "text/plain": [
       "irv (generic function with 1 method)"
      ]
     },
     "execution_count": 10,
     "metadata": {},
     "output_type": "execute_result"
    }
   ],
   "source": [
    "function irv(distance_list)\n",
    "    unfolded = sorter(distance_list)\n",
    "    first_pref = unfolded[:,1]\n",
    "\n",
    "    while true\n",
    "        bincount = StatsBase.countmap(first_pref)\n",
    "        collectkeys = collect(keys(bincount))\n",
    "        collectvalues = collect(values(bincount))\n",
    "        pos_of_max = collectkeys[argmax(collectvalues)]\n",
    "\n",
    "        if bincount[pos_of_max] >= sum(collectvalues)/2\n",
    "            return pos_of_max\n",
    "        else\n",
    "            lowest_cand = collectkeys[argmin(collectvalues)][1]\n",
    "            @inbounds for i in 1:size(findall(first_pref.==lowest_cand))[1]\n",
    "                row_num = findnext(first_pref.==lowest_cand, i)\n",
    "                first_pref[row_num] = unfolded[row_num, 2]\n",
    "            end\n",
    "        end\n",
    "    end\n",
    "end"
   ]
  },
  {
   "cell_type": "code",
   "execution_count": 11,
   "metadata": {},
   "outputs": [
    {
     "data": {
      "text/plain": [
       "election (generic function with 1 method)"
      ]
     },
     "execution_count": 11,
     "metadata": {},
     "output_type": "execute_result"
    }
   ],
   "source": [
    "function election(voter_mean_x, voter_mean_y, stdev, number_of_voters, candidate_x_coord, candidate_y_coord)\n",
    "    v_x = rand(Distributions.Normal(voter_mean_x, stdev), number_of_voters)\n",
    "    v_y = rand(Distributions.Normal(voter_mean_y, stdev), number_of_voters)\n",
    "\n",
    "    distance_list = hypot.(v_x .- candidate_x_coord, # diff_x\n",
    "                           v_y .- candidate_y_coord) # diff_y\n",
    "\n",
    "    fptp_winner::Integer = fptp(distance_list)\n",
    "    approval_winner::Integer = approval(distance_list)\n",
    "    borda_winner::Integer = borda(distance_list, candidate_x_coord)\n",
    "    irv_winner::Integer = irv(distance_list) # There's a bizzare bug where calling score() first will mess up this function's order\n",
    "    score_winner::Integer = score(distance_list)\n",
    "\n",
    "    return (fptp_winner, approval_winner, borda_winner, irv_winner, score_winner)\n",
    "end"
   ]
  },
  {
   "cell_type": "code",
   "execution_count": 12,
   "metadata": {},
   "outputs": [
    {
     "data": {
      "text/plain": [
       "loop_elections (generic function with 3 methods)"
      ]
     },
     "execution_count": 12,
     "metadata": {},
     "output_type": "execute_result"
    }
   ],
   "source": [
    "function loop_elections(voter_grid, candidate_x_coord, candidate_y_coord, number_of_voters=1000, stdev=1)\n",
    "    voter_grid_tup_arr = vec(collect(voter_grid))\n",
    "    voter_grid_size = size(voter_grid_tup_arr)[1]\n",
    "    a, b = zeros(Float64, voter_grid_size), zeros(Float64, voter_grid_size)\n",
    "    \n",
    "    fptp_winner, approval_winner,\n",
    "    borda_winner, irv_winner, score_winner =\n",
    "        zeros(Integer, voter_grid_size), zeros(Integer, voter_grid_size),\n",
    "        zeros(Integer, voter_grid_size), zeros(Integer, voter_grid_size),\n",
    "        zeros(Integer, voter_grid_size)\n",
    "\n",
    "    @showprogress for i in 1:voter_grid_size\n",
    "        fptp_winner[i]::Integer,\n",
    "        approval_winner[i]::Integer,\n",
    "        borda_winner[i]::Integer,\n",
    "        irv_winner[i]::Integer,\n",
    "        score_winner[i]::Integer =\n",
    "            election(voter_grid_tup_arr[i][1], voter_grid_tup_arr[i][2], stdev, number_of_voters, candidate_x_coord, candidate_y_coord)\n",
    "        \n",
    "        a[i] = voter_grid_tup_arr[i][1]\n",
    "        b[i] = voter_grid_tup_arr[i][2]\n",
    "    end\n",
    "    \n",
    "    vdf = DataFrame()\n",
    "    vdf.FPTP = fptp_winner\n",
    "    vdf.Approval = approval_winner\n",
    "    vdf.Borda = borda_winner\n",
    "    vdf.IRV = irv_winner\n",
    "    vdf.Score = score_winner\n",
    "    vdf.x = a\n",
    "    vdf.y = b\n",
    "    return vdf\n",
    "end"
   ]
  },
  {
   "cell_type": "code",
   "execution_count": 13,
   "metadata": {},
   "outputs": [
    {
     "data": {
      "text/plain": [
       "plotter (generic function with 1 method)"
      ]
     },
     "execution_count": 13,
     "metadata": {},
     "output_type": "execute_result"
    }
   ],
   "source": [
    "function plotter(df, candidate_x_coord, candidate_y_coord)\n",
    "    p1 = plot(df.x, df.y, title=\"FPTP\", seriestype=:scatter, color=df.FPTP, palette=[:red, :lightgreen, :blue], msw=0, markersize=2)\n",
    "    plot!(candidate_x_coord, candidate_y_coord, seriestype=:scatter, palette=[:green, :blue, :red], msw=1, markersize=5, lims=(-2,2))\n",
    "    p2 = plot(df.x, df.y, title=\"Approval\", seriestype=:scatter, color=df.Approval, palette=[:red, :lightgreen, :blue], msw=0, markersize=2)\n",
    "    plot!(candidate_x_coord, candidate_y_coord, seriestype=:scatter, palette=[:green, :blue, :red], msw=1, markersize=5, lims=(-2,2))\n",
    "    p3 = plot(df.x, df.y, title=\"Borda\", seriestype=:scatter, color=df.Borda, palette=[:red, :lightgreen, :blue], msw=0, markersize=2)\n",
    "    plot!(candidate_x_coord, candidate_y_coord, seriestype=:scatter, palette=[:green, :blue, :red], msw=1, markersize=5, lims=(-2,2))\n",
    "    p4 = plot(df.x, df.y, title=\"IRV\", seriestype=:scatter, color=df.IRV, palette=[:red, :lightgreen, :blue], msw=0, markersize=2)\n",
    "    plot!(candidate_x_coord, candidate_y_coord, seriestype=:scatter, palette=[:green, :blue, :red], msw=1, markersize=5, lims=(-2,2))\n",
    "    p5 = plot(df.x, df.y, title=\"Score\", seriestype=:scatter, color=df.Score, palette=[:red, :lightgreen, :blue], msw=0, markersize=2)\n",
    "    plot!(candidate_x_coord, candidate_y_coord, seriestype=:scatter, palette=[:green, :blue, :red], msw=1, markersize=5, lims=(-2,2))\n",
    "    final_plot = plot(p1, p2, p3, p4, p5, legend = false, size=((900,500)))\n",
    "    return final_plot\n",
    "end"
   ]
  }
 ],
 "metadata": {
  "kernelspec": {
   "display_name": "Julia 1.3.1",
   "language": "julia",
   "name": "julia-1.3"
  },
  "language_info": {
   "file_extension": ".jl",
   "mimetype": "application/julia",
   "name": "julia",
   "version": "1.3.1"
  }
 },
 "nbformat": 4,
 "nbformat_minor": 4
}
