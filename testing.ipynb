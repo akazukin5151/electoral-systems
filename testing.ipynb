{
 "cells": [
  {
   "cell_type": "code",
   "execution_count": null,
   "metadata": {},
   "outputs": [],
   "source": [
    "using NBInclude\n",
    "@nbinclude(\"/home/twenty/Nextcloud/Maths/Elections/elections.ipynb\")"
   ]
  },
  {
   "cell_type": "code",
   "execution_count": null,
   "metadata": {},
   "outputs": [],
   "source": [
    "# TESTING\n",
    "using Test\n",
    "\n",
    "const candidate_x_coord = [0.93 0.79 0.27]\n",
    "const candidate_y_coord = [0.49 0.42 0.45]\n",
    "const voter_grid = Iterators.product(-2:0.1:2, -2:0.1:2)\n",
    "# Note: columns are candidates and rows are each voter\n",
    "# The number is the distance between them\n",
    "# So [1 2 3] means candidate 3 is furthest from this voter\n",
    "                                   # d_sorted\n",
    "test_distance_list = [[1 2 3];     # 1 2 3\n",
    "                      [2 1 3];     # 2 1 3\n",
    "                      [2 3 1];     # 3 1 2\n",
    "                      [3 2 1];]    # 3 2 1\n",
    "\n",
    "@testset \"sorter\" begin\n",
    "    @test sorter(test_distance_list) == [1 2 3; 2 1 3; 3 1 2; 3 2 1]\n",
    "    @inferred sorter(test_distance_list)\n",
    "end\n",
    "\n",
    "@testset \"FPTP\" begin\n",
    "    @test fptp(test_distance_list) ≈ 3\n",
    "    @inferred fptp(test_distance_list)\n",
    "end\n",
    "\n",
    "@testset \"Approval\" begin\n",
    "    @inferred approval(test_distance_list)\n",
    "end\n",
    "\n",
    "@testset \"Borda\" begin\n",
    "    @test borda(test_distance_list, candidate_x_coord) ≈ 1 #|| 2 || 3\n",
    "    @inferred borda(test_distance_list)\n",
    "end\n",
    "\n",
    "@testset \"IRV\" begin\n",
    "    @test irv(test_distance_list) ≈ 3\n",
    "    @inferred irv(test_distance_list)\n",
    "end\n",
    "\n",
    "@testset \"Score\" begin\n",
    "    @test score(test_distance_list) ≈ 1 #|| 2\n",
    "    @inferred score(test_distance_list)\n",
    "end\n",
    "\n",
    "@testset \"election functions\" begin\n",
    "    @test typeof(election(1, 1, 1, 100, [1 2 3], [3 2 1])) == NTuple{5,Int64}\n",
    "    @inferred election(1, 1, 1, 100, [1 2 3], [3 2 1])\n",
    "    @test size(loop_elections(Iterators.product(-2:1:2, -2:1:2), [1 2 3], [3 2 1])) == (25, 7)\n",
    "    @inferred loop_elections(Iterators.product(-2:1:2, -2:1:2), [1 2 3], [3 2 1])\n",
    "end"
   ]
  },
  {
   "cell_type": "code",
   "execution_count": null,
   "metadata": {},
   "outputs": [],
   "source": [
    "@code_warntype irv(test_distance_list)\n",
    "# this, borda(), and sorted() shows yellow on Union{Nothing, ...}\n",
    "# This is just the loop over the iterator, which returns the next value, or nothing if at end"
   ]
  }
 ],
 "metadata": {
  "kernelspec": {
   "display_name": "Julia 1.3.1",
   "language": "julia",
   "name": "julia-1.3"
  },
  "language_info": {
   "file_extension": ".jl",
   "mimetype": "application/julia",
   "name": "julia",
   "version": "1.3.1"
  }
 },
 "nbformat": 4,
 "nbformat_minor": 4
}
